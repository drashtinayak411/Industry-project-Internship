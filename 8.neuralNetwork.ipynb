{
  "nbformat": 4,
  "nbformat_minor": 0,
  "metadata": {
    "kernelspec": {
      "display_name": "Python 3.8.5 32-bit",
      "name": "python385jvsc74a57bd0d7c375635162da09f0df265be1ff543fa0e54d4b5ed0ee516c18eaf6e6e8fe7a"
    },
    "language_info": {
      "codemirror_mode": {
        "name": "ipython",
        "version": 3
      },
      "file_extension": ".py",
      "mimetype": "text/x-python",
      "name": "python",
      "nbconvert_exporter": "python",
      "pygments_lexer": "ipython3",
      "version": "3.8.5"
    },
    "metadata": {
      "interpreter": {
        "hash": "d7c375635162da09f0df265be1ff543fa0e54d4b5ed0ee516c18eaf6e6e8fe7a"
      }
    },
    "orig_nbformat": 3,
    "colab": {
      "name": "neuralNetwork.ipynb",
      "provenance": []
    }
  },
  "cells": [
    {
      "cell_type": "code",
      "metadata": {
        "colab": {
          "base_uri": "https://localhost:8080/"
        },
        "id": "pN311WfsOVue",
        "outputId": "b184e074-b195-4299-ae97-e14965cc5a26"
      },
      "source": [
        "from google.colab import drive\n",
        "\n",
        "drive.mount(\"/content/drive\")"
      ],
      "execution_count": null,
      "outputs": [
        {
          "output_type": "stream",
          "text": [
            "Mounted at /content/drive\n"
          ],
          "name": "stdout"
        }
      ]
    },
    {
      "cell_type": "code",
      "metadata": {
        "id": "YRbyndxnLrBm"
      },
      "source": [
        "# -------------------------- LIBRARIES NECESSARY IN THIS PROJECT  -------------------------- #\n",
        "\n",
        "import pandas as pd\n",
        "import numpy as np\n",
        "import seaborn as sns\n",
        "from datetime import *\n",
        "import zipfile\n",
        "import pylab as plt\n",
        "\n",
        "import sklearn\n",
        "from sklearn.linear_model import LogisticRegression\n",
        "from sklearn.model_selection import train_test_split\n",
        "from sklearn.metrics import confusion_matrix\n",
        "\n",
        "from sklearn.tree import DecisionTreeClassifier\n",
        "\n",
        "from sklearn import tree\n",
        "from pydot import graph_from_dot_data\n",
        "from six import StringIO\n",
        "\n",
        "from statistics import mean, stdev\n",
        "\n",
        "from IPython.display import Image\n",
        "\n",
        "from sklearn.preprocessing import StandardScaler\n",
        "from sklearn.neural_network import MLPClassifier\n",
        "from sklearn.metrics import classification_report, confusion_matrix\n",
        "\n",
        "from sklearn.model_selection import GroupShuffleSplit\n",
        "\n",
        "from sklearn.metrics import accuracy_score\n",
        "\n",
        "from sklearn.model_selection import StratifiedKFold\n",
        "\n",
        "from sklearn.metrics import balanced_accuracy_score\n",
        "from sklearn.model_selection import StratifiedShuffleSplit\n",
        "\n",
        "# -------------------------- FUNCTIONS -------------------------- #\n",
        "\n",
        "def getDataSet(data_path):\n",
        "    return pd.read_csv(data_path)"
      ],
      "execution_count": null,
      "outputs": []
    },
    {
      "cell_type": "markdown",
      "metadata": {
        "id": "Hx8vrP8tLrBu"
      },
      "source": [
        "## Upload dataSets"
      ]
    },
    {
      "cell_type": "markdown",
      "metadata": {
        "id": "Vnl0vAaYLrBv"
      },
      "source": [
        "### Members dataset cleasing"
      ]
    },
    {
      "cell_type": "code",
      "metadata": {
        "id": "lXxZJJ5ALrBv"
      },
      "source": [
        "# -------------------------- PATH OF THE DATASETS USED IN THE PROJECT  -------------------------- #\n",
        "zf = zipfile.ZipFile('/content/drive/My Drive/dataSets/main.zip')\n",
        "\n",
        "main_data_set_all_fields = pd.read_csv(zf.open('main.csv'))"
      ],
      "execution_count": null,
      "outputs": []
    },
    {
      "cell_type": "markdown",
      "metadata": {
        "id": "gGJimFNRLrBw"
      },
      "source": [
        "## Data manipulation and cleansing"
      ]
    },
    {
      "cell_type": "code",
      "metadata": {
        "id": "R9KbIkrkLrBw",
        "colab": {
          "base_uri": "https://localhost:8080/"
        },
        "outputId": "31fb3fbf-0f69-4969-ef69-5d33243aca4e"
      },
      "source": [
        "# Check the dataSet fields\n",
        "main_data_set_all_fields.info()"
      ],
      "execution_count": null,
      "outputs": [
        {
          "output_type": "stream",
          "text": [
            "<class 'pandas.core.frame.DataFrame'>\n",
            "RangeIndex: 32950 entries, 0 to 32949\n",
            "Data columns (total 26 columns):\n",
            " #   Column                  Non-Null Count  Dtype  \n",
            "---  ------                  --------------  -----  \n",
            " 0   Unnamed: 0              32950 non-null  int64  \n",
            " 1   member_key              32950 non-null  object \n",
            " 2   updated_at              32950 non-null  object \n",
            " 3   first_name              32950 non-null  object \n",
            " 4   last_name               32950 non-null  object \n",
            " 5   disabilities            8383 non-null   object \n",
            " 6   SA1                     3751 non-null   float64\n",
            " 7   price_zone_code         32950 non-null  object \n",
            " 8   plan_key                32950 non-null  object \n",
            " 9   plan_status             32950 non-null  object \n",
            " 10  plan_start_date         32950 non-null  object \n",
            " 11  plan_end_date           32950 non-null  object \n",
            " 12  budget_level3_name      840 non-null    object \n",
            " 13  budget_level3_key       840 non-null    object \n",
            " 14  budget_level2_key       32950 non-null  object \n",
            " 15  budget_level2_name      32950 non-null  object \n",
            " 16  budget_level1_key       32950 non-null  object \n",
            " 17  budget_level1_name      32950 non-null  object \n",
            " 18  invoice_state           32950 non-null  object \n",
            " 19  claim_state             32950 non-null  object \n",
            " 20  allocated_amount        32950 non-null  float64\n",
            " 21  requested_amount        32950 non-null  float64\n",
            " 22  funded_amount           32950 non-null  float64\n",
            " 23  allocated_amount_total  32950 non-null  float64\n",
            " 24  requested_amount_total  32950 non-null  float64\n",
            " 25  funded_amount_total     32950 non-null  float64\n",
            "dtypes: float64(7), int64(1), object(18)\n",
            "memory usage: 6.5+ MB\n"
          ],
          "name": "stdout"
        }
      ]
    },
    {
      "cell_type": "code",
      "metadata": {
        "id": "lGnfFDdULrBy",
        "colab": {
          "base_uri": "https://localhost:8080/",
          "height": 414
        },
        "outputId": "b8b2c461-0cbe-4e73-bdd2-eb83857f2139"
      },
      "source": [
        "main_data_set_all_fields.head(4)"
      ],
      "execution_count": null,
      "outputs": [
        {
          "output_type": "execute_result",
          "data": {
            "text/html": [
              "<div>\n",
              "<style scoped>\n",
              "    .dataframe tbody tr th:only-of-type {\n",
              "        vertical-align: middle;\n",
              "    }\n",
              "\n",
              "    .dataframe tbody tr th {\n",
              "        vertical-align: top;\n",
              "    }\n",
              "\n",
              "    .dataframe thead th {\n",
              "        text-align: right;\n",
              "    }\n",
              "</style>\n",
              "<table border=\"1\" class=\"dataframe\">\n",
              "  <thead>\n",
              "    <tr style=\"text-align: right;\">\n",
              "      <th></th>\n",
              "      <th>Unnamed: 0</th>\n",
              "      <th>member_key</th>\n",
              "      <th>updated_at</th>\n",
              "      <th>first_name</th>\n",
              "      <th>last_name</th>\n",
              "      <th>disabilities</th>\n",
              "      <th>SA1</th>\n",
              "      <th>price_zone_code</th>\n",
              "      <th>plan_key</th>\n",
              "      <th>plan_status</th>\n",
              "      <th>plan_start_date</th>\n",
              "      <th>plan_end_date</th>\n",
              "      <th>budget_level3_name</th>\n",
              "      <th>budget_level3_key</th>\n",
              "      <th>budget_level2_key</th>\n",
              "      <th>budget_level2_name</th>\n",
              "      <th>budget_level1_key</th>\n",
              "      <th>budget_level1_name</th>\n",
              "      <th>invoice_state</th>\n",
              "      <th>claim_state</th>\n",
              "      <th>allocated_amount</th>\n",
              "      <th>requested_amount</th>\n",
              "      <th>funded_amount</th>\n",
              "      <th>allocated_amount_total</th>\n",
              "      <th>requested_amount_total</th>\n",
              "      <th>funded_amount_total</th>\n",
              "    </tr>\n",
              "  </thead>\n",
              "  <tbody>\n",
              "    <tr>\n",
              "      <th>0</th>\n",
              "      <td>0</td>\n",
              "      <td>00109970-7029-11eb-81d6-9d4df94b6224</td>\n",
              "      <td>2021-04</td>\n",
              "      <td>Wynny</td>\n",
              "      <td>Pressman</td>\n",
              "      <td>NaN</td>\n",
              "      <td>NaN</td>\n",
              "      <td>ACT_NSW_QLD_VIC</td>\n",
              "      <td>588427f1-e45d-4a6e-b307-9c68a13849ef</td>\n",
              "      <td>PLAN_DELIVERY_ACTIVE</td>\n",
              "      <td>2021-02</td>\n",
              "      <td>2024-02</td>\n",
              "      <td>NaN</td>\n",
              "      <td>NaN</td>\n",
              "      <td>7d0af53b-f597-11e9-bfb4-022d4762bb3c</td>\n",
              "      <td>Assistance with social and community participa...</td>\n",
              "      <td>58745466-f597-11e9-bfb4-022d4762bb3c</td>\n",
              "      <td>Core</td>\n",
              "      <td>ALL_PAID</td>\n",
              "      <td>PAID</td>\n",
              "      <td>50000.00</td>\n",
              "      <td>98.8000</td>\n",
              "      <td>98.80</td>\n",
              "      <td>272168.34</td>\n",
              "      <td>11316.7000</td>\n",
              "      <td>11316.70</td>\n",
              "    </tr>\n",
              "    <tr>\n",
              "      <th>1</th>\n",
              "      <td>1</td>\n",
              "      <td>00109970-7029-11eb-81d6-9d4df94b6224</td>\n",
              "      <td>2021-04</td>\n",
              "      <td>Wynny</td>\n",
              "      <td>Pressman</td>\n",
              "      <td>NaN</td>\n",
              "      <td>NaN</td>\n",
              "      <td>ACT_NSW_QLD_VIC</td>\n",
              "      <td>588427f1-e45d-4a6e-b307-9c68a13849ef</td>\n",
              "      <td>PLAN_DELIVERY_ACTIVE</td>\n",
              "      <td>2021-02</td>\n",
              "      <td>2024-02</td>\n",
              "      <td>NaN</td>\n",
              "      <td>NaN</td>\n",
              "      <td>7d0af71b-f597-11e9-bfb4-022d4762bb3c</td>\n",
              "      <td>Assistance with daily living</td>\n",
              "      <td>58745466-f597-11e9-bfb4-022d4762bb3c</td>\n",
              "      <td>Core</td>\n",
              "      <td>ALL_PAID</td>\n",
              "      <td>PAID</td>\n",
              "      <td>222168.34</td>\n",
              "      <td>11217.9000</td>\n",
              "      <td>11217.90</td>\n",
              "      <td>272168.34</td>\n",
              "      <td>11316.7000</td>\n",
              "      <td>11316.70</td>\n",
              "    </tr>\n",
              "    <tr>\n",
              "      <th>2</th>\n",
              "      <td>2</td>\n",
              "      <td>0010f240-3b5d-11eb-aa73-7be7bbd3c758</td>\n",
              "      <td>2021-04</td>\n",
              "      <td>Beryl</td>\n",
              "      <td>McDuff</td>\n",
              "      <td>Asperger syndrome</td>\n",
              "      <td>3138648.0</td>\n",
              "      <td>ACT_NSW_QLD_VIC</td>\n",
              "      <td>ef286fe8-8b36-4d77-97a0-59f9ef3df9b8</td>\n",
              "      <td>PLAN_DELIVERY_ACTIVE</td>\n",
              "      <td>2020-09</td>\n",
              "      <td>2021-09</td>\n",
              "      <td>NaN</td>\n",
              "      <td>NaN</td>\n",
              "      <td>7d0af57b-f597-11e9-bfb4-022d4762bb3c</td>\n",
              "      <td>Improved daily living skills</td>\n",
              "      <td>5874551b-f597-11e9-bfb4-022d4762bb3c</td>\n",
              "      <td>Capacity Building</td>\n",
              "      <td>ALL_PAID</td>\n",
              "      <td>PAID</td>\n",
              "      <td>9801.60</td>\n",
              "      <td>2559.6384</td>\n",
              "      <td>2559.67</td>\n",
              "      <td>9801.60</td>\n",
              "      <td>2559.6384</td>\n",
              "      <td>2559.67</td>\n",
              "    </tr>\n",
              "    <tr>\n",
              "      <th>3</th>\n",
              "      <td>3</td>\n",
              "      <td>00117a50-cbc6-11ea-805a-75fc51d39a77</td>\n",
              "      <td>2021-04</td>\n",
              "      <td>Jethro</td>\n",
              "      <td>Perchard</td>\n",
              "      <td>NaN</td>\n",
              "      <td>NaN</td>\n",
              "      <td>ACT_NSW_QLD_VIC</td>\n",
              "      <td>8aa26238-d922-4963-bcaf-427d24a610bc</td>\n",
              "      <td>COMPLETED</td>\n",
              "      <td>2020-04</td>\n",
              "      <td>2021-04</td>\n",
              "      <td>NaN</td>\n",
              "      <td>NaN</td>\n",
              "      <td>7d0af57b-f597-11e9-bfb4-022d4762bb3c</td>\n",
              "      <td>Improved daily living skills</td>\n",
              "      <td>5874551b-f597-11e9-bfb4-022d4762bb3c</td>\n",
              "      <td>Capacity Building</td>\n",
              "      <td>ALL_PAID</td>\n",
              "      <td>PAID</td>\n",
              "      <td>64524.00</td>\n",
              "      <td>8503.6500</td>\n",
              "      <td>8503.65</td>\n",
              "      <td>64524.00</td>\n",
              "      <td>8503.6500</td>\n",
              "      <td>8503.65</td>\n",
              "    </tr>\n",
              "  </tbody>\n",
              "</table>\n",
              "</div>"
            ],
            "text/plain": [
              "   Unnamed: 0  ... funded_amount_total\n",
              "0           0  ...            11316.70\n",
              "1           1  ...            11316.70\n",
              "2           2  ...             2559.67\n",
              "3           3  ...             8503.65\n",
              "\n",
              "[4 rows x 26 columns]"
            ]
          },
          "metadata": {
            "tags": []
          },
          "execution_count": 5
        }
      ]
    },
    {
      "cell_type": "code",
      "metadata": {
        "id": "Dp-daK_CLrBz"
      },
      "source": [
        "main_data_No_NaN = main_data_set_all_fields.replace(np.nan, 'NA')\n",
        "\n",
        "main_data_No_NaN = main_data_No_NaN[(main_data_No_NaN[\"plan_status\"] == 'PLAN_DELIVERY_ACTIVE')]"
      ],
      "execution_count": null,
      "outputs": []
    },
    {
      "cell_type": "code",
      "metadata": {
        "id": "vKe1uTB1LrBz"
      },
      "source": [
        "# Select just the fields to be used\n",
        "main_data_set = main_data_No_NaN.groupby([\n",
        "                                           \"member_key\"\n",
        "                                         , \"first_name\"\n",
        "                                         , \"last_name\"\n",
        "                                         , \"budget_level1_key\"\n",
        "                                         , \"budget_level1_name\"\n",
        "                                         , \"budget_level2_key\"\n",
        "                                         , \"budget_level2_name\"\n",
        "                                         , \"plan_start_date\"\n",
        "                                         , \"plan_end_date\"\n",
        "                                         , \"allocated_amount_total\"\n",
        "                                        ]).agg({\"funded_amount\": \"sum\", \"allocated_amount\": \"sum\"}).reset_index().copy()"
      ],
      "execution_count": null,
      "outputs": []
    },
    {
      "cell_type": "code",
      "metadata": {
        "id": "GtfdlhawLrB0"
      },
      "source": [
        "months_total = main_data_set[{\n",
        "                              \"member_key\"\n",
        "                            , \"plan_start_date\"\n",
        "                            , \"plan_end_date\"}].copy()\n",
        "\n",
        "months_total['plan_months_total'] = ((pd.to_datetime(months_total['plan_end_date']).dt.year\n",
        "                                   -  pd.to_datetime(months_total['plan_start_date']).dt.year) * 12) + (pd.to_datetime(months_total['plan_end_date']).dt.month\n",
        "                                   -  pd.to_datetime(months_total['plan_start_date']).dt.month)\n",
        "\n",
        "months_total_merged = months_total[{\"member_key\", \"plan_months_total\"}]\n",
        "                            \n",
        "months_total_merged = months_total[{\n",
        "                                    \"member_key\"\n",
        "                                  , \"plan_months_total\"\n",
        "                            }].groupby([\n",
        "                                       \"member_key\"\n",
        "                                     , \"plan_months_total\"\n",
        "                                       ]).count().reset_index()\n",
        "\n",
        "months_total_merged = pd.merge(main_data_set, months_total_merged, how=\"left\", on=[\"member_key\"])"
      ],
      "execution_count": null,
      "outputs": []
    },
    {
      "cell_type": "code",
      "metadata": {
        "id": "IJcf6lyOLrB1"
      },
      "source": [
        "allocated_amount_month = months_total_merged[{\n",
        "                                              \"member_key\"\n",
        "                                            , \"budget_level1_key\"\n",
        "                                            , \"budget_level2_key\"\n",
        "                                            , \"plan_months_total\"\n",
        "                                            , \"allocated_amount\"\n",
        "                                            }].copy()\n",
        "\n",
        "allocated_amount_month[\"allocated_amount_month\"] = allocated_amount_month[\"allocated_amount\"] / allocated_amount_month[\"plan_months_total\"]                                                    \n",
        "\n",
        "allocated_amount_month = allocated_amount_month[{'member_key', 'budget_level1_key', 'budget_level2_key', 'allocated_amount_month'}]\n",
        "\n",
        "months_total_merged_monthly = pd.merge(months_total_merged, allocated_amount_month, how=\"left\", on=[\"member_key\", \"budget_level1_key\", \"budget_level2_key\"])"
      ],
      "execution_count": null,
      "outputs": []
    },
    {
      "cell_type": "code",
      "metadata": {
        "id": "0FgbQwr_LrB2"
      },
      "source": [
        "month_today = main_data_set[{\n",
        "                           \"member_key\"\n",
        "                         , \"budget_level1_key\"\n",
        "                         , \"budget_level2_key\"\n",
        "                         , \"plan_start_date\"\n",
        "                            }].copy()\n",
        "\n",
        "\n",
        "month_today['month_actual'] = ((pd.to_datetime(\"today\").year -  pd.to_datetime(month_today['plan_start_date']).dt.year) * 12)                                                                                                                     + (pd.to_datetime(\"today\").month - pd.to_datetime(month_today['plan_start_date']).dt.month)\n",
        "\n",
        "month_today = month_today[{'member_key', 'budget_level1_key', 'budget_level2_key', 'month_actual'}]\n",
        "\n",
        "month_actual = pd.merge(months_total_merged_monthly, month_today, how=\"left\", on=[\"member_key\", \"budget_level1_key\", \"budget_level2_key\"])\n",
        "\n",
        "month_actual[\"spent_amount_predicted\"] = month_actual[\"allocated_amount_month\"] * month_actual[\"month_actual\"]"
      ],
      "execution_count": null,
      "outputs": []
    },
    {
      "cell_type": "code",
      "metadata": {
        "id": "Tbf0COWOLrB4"
      },
      "source": [
        "month_actual['funded_amount'] = month_actual['funded_amount'].round(2)\n",
        "month_actual['allocated_amount'] = month_actual['allocated_amount'].round(2)\n",
        "\n",
        "month_actual['allocated_amount_month'] = month_actual['allocated_amount_month'].round(2)\n",
        "month_actual['spent_amount_predicted'] = month_actual['spent_amount_predicted'].round(2)\n",
        "\n",
        "month_actual['months_left'] = month_actual['plan_months_total'] - month_actual['month_actual']"
      ],
      "execution_count": null,
      "outputs": []
    },
    {
      "cell_type": "code",
      "metadata": {
        "id": "Jev1ZQrSLrB5"
      },
      "source": [
        "month_actual['funded_amount_percentage'] = (month_actual['funded_amount'] / month_actual['allocated_amount']) * 100#).round(2)\n",
        "\n",
        "month_actual['months_left_percentage'] = (month_actual['months_left'] / month_actual['plan_months_total']) * 100#).round(2)\n",
        "\n",
        "month_actual['funded_amount_months_left'] = month_actual['funded_amount_percentage'] / month_actual['months_left_percentage']#).round(2)\n",
        "\n",
        "month_actual = month_actual.loc[\n",
        "                                (month_actual[\"plan_months_total\"] >= 12)\n",
        "                              & (month_actual[\"allocated_amount\"] > 0)\n",
        "                              & (month_actual[\"months_left\"] > 0)\n",
        "                               ]"
      ],
      "execution_count": null,
      "outputs": []
    },
    {
      "cell_type": "code",
      "metadata": {
        "id": "jGicTLoVLrB6"
      },
      "source": [
        "main_data_set = month_actual[{\n",
        "                              \"member_key\"\n",
        "                            , \"first_name\" \n",
        "                            , \"last_name\" \n",
        "                            , \"budget_level1_key\"\n",
        "                            , \"budget_level1_name\"\n",
        "                            , \"budget_level2_key\"\n",
        "                            , \"budget_level2_name\"\n",
        "                            , \"plan_months_total\"\n",
        "                            , \"allocated_amount\"\n",
        "                            , \"funded_amount_months_left\"\n",
        "                            }].copy()"
      ],
      "execution_count": null,
      "outputs": []
    },
    {
      "cell_type": "code",
      "metadata": {
        "id": "H6jkVWnMLrB7"
      },
      "source": [
        "month_actual['funded_amount'] = month_actual['funded_amount'].round(2)\n",
        "month_actual['allocated_amount'] = month_actual['allocated_amount'].round(2)\n",
        "\n",
        "month_actual['allocated_amount_month'] = month_actual['allocated_amount_month'].round(2)\n",
        "month_actual['spent_amount_predicted'] = month_actual['spent_amount_predicted'].round(2)\n",
        "\n",
        "month_actual['months_left'] = month_actual['plan_months_total'] - month_actual['month_actual']"
      ],
      "execution_count": null,
      "outputs": []
    },
    {
      "cell_type": "code",
      "metadata": {
        "id": "MSugRK5d31EL"
      },
      "source": [
        " main_data_set['spending_status'] = np.where(main_data_set['funded_amount_months_left'] < 0.9, 'Overspending', 'Underspending')\n",
        " main_data_set['spending_status'] = np.where(((main_data_set['funded_amount_months_left'] >= 0.9) & (main_data_set['funded_amount_months_left'] <= 1.2)), 'On_Track', main_data_set['spending_status'])"
      ],
      "execution_count": null,
      "outputs": []
    },
    {
      "cell_type": "code",
      "metadata": {
        "id": "G_Q28BmbLrB8"
      },
      "source": [
        "main_data_set = main_data_set[{\n",
        "                              \"member_key\"\n",
        "                            , \"first_name\" \n",
        "                            , \"last_name\" \n",
        "                            , \"budget_level1_key\"\n",
        "                            , \"budget_level1_name\"\n",
        "                            , \"budget_level2_key\"\n",
        "                            , \"budget_level2_name\"\n",
        "                            , \"plan_months_total\"\n",
        "                            , \"allocated_amount\"\n",
        "                            , \"spending_status\"\n",
        "                            }].copy()"
      ],
      "execution_count": null,
      "outputs": []
    },
    {
      "cell_type": "code",
      "metadata": {
        "id": "0b54_no0LrB9"
      },
      "source": [
        "df_model = main_data_set[{\n",
        "                          'plan_months_total'\n",
        "                        , 'allocated_amount'\n",
        "                        , 'spending_status'\n",
        "                        }].copy()"
      ],
      "execution_count": null,
      "outputs": []
    },
    {
      "cell_type": "code",
      "metadata": {
        "id": "yHvUN4wpLrB9"
      },
      "source": [
        "# Total plan amount \n",
        "# Total plan lenght\n",
        "\n",
        "X = df_model[{\n",
        "                'plan_months_total'\n",
        "              , 'allocated_amount'\n",
        "            }].values\n",
        "\n",
        "y = df_model['spending_status'].values\n",
        "\n",
        "normalized_range = sklearn.preprocessing.MinMaxScaler(feature_range=(-1,1))\n",
        "X = normalized_range.fit_transform(X)"
      ],
      "execution_count": null,
      "outputs": []
    },
    {
      "cell_type": "code",
      "metadata": {
        "id": "-hbwDKIvLrB-"
      },
      "source": [
        "# TRAINING MODEL\n",
        "X_train, X_test, y_train, y_test = train_test_split(x, y, test_size=0.25, random_state=10)"
      ],
      "execution_count": null,
      "outputs": []
    },
    {
      "cell_type": "code",
      "metadata": {
        "id": "AdUOJNR5LrB_"
      },
      "source": [
        "#Feature scaling\n",
        "scaler = StandardScaler()\n",
        "scaler.fit(X_train)\n",
        "\n",
        "X_train = scaler.transform(X_train)\n",
        "X_test = scaler.transform(X_test)"
      ],
      "execution_count": null,
      "outputs": []
    },
    {
      "cell_type": "code",
      "metadata": {
        "id": "0tyKcY7KLrB_"
      },
      "source": [
        "model = MLPClassifier(hidden_layer_sizes=(10, 10, 10), max_iter=1000)\n",
        "\n",
        "regression = LogisticRegression(random_state=0, multi_class='multinomial', penalty='none', solver='newton-cg', max_iter = 150, warm_start = False)"
      ],
      "execution_count": null,
      "outputs": []
    },
    {
      "cell_type": "code",
      "metadata": {
        "id": "yNtn56fkLrCA"
      },
      "source": [
        "skf = StratifiedKFold(n_splits=5)"
      ],
      "execution_count": null,
      "outputs": []
    },
    {
      "cell_type": "code",
      "metadata": {
        "id": "TzVMGeUiLrCA",
        "colab": {
          "base_uri": "https://localhost:8080/"
        },
        "outputId": "70298819-d13c-4136-e43a-293b5a01ec4c"
      },
      "source": [
        "splitter = StratifiedShuffleSplit(n_splits=3, test_size=0.33, random_state=0)\n",
        "lst_accu_stratified = []\n",
        "   \n",
        "for train_index, test_index in splitter.split(X, y):\n",
        "    X_train, X_test = X[train_index], X[test_index]\n",
        "    y_train, y_test = y[train_index], y[test_index]\n",
        "\n",
        "    model = model.fit(X_train, y_train)\n",
        "    lst_accu_stratified.append(model.score(X_test, y_test))\n",
        "   \n",
        "# Print the output.\n",
        "print('List of possible accuracy:', lst_accu_stratified)\n",
        "print('\\nMaximum Accuracy That can be obtained from this model is:',\n",
        "      max(lst_accu_stratified)*100, '%')\n",
        "print('\\nMinimum Accuracy:',\n",
        "      min(lst_accu_stratified)*100, '%')\n",
        "print('\\nOverall Accuracy:',\n",
        "      mean(lst_accu_stratified)*100, '%')\n",
        "print('\\nStandard Deviation is:', stdev(lst_accu_stratified))"
      ],
      "execution_count": null,
      "outputs": [
        {
          "output_type": "stream",
          "text": [
            "List of possible accuracy: [0.77652606759235, 0.77652606759235, 0.77652606759235]\n",
            "\n",
            "Maximum Accuracy That can be obtained from this model is: 77.652606759235 %\n",
            "\n",
            "Minimum Accuracy: 77.652606759235 %\n",
            "\n",
            "Overall Accuracy: 77.652606759235 %\n",
            "\n",
            "Standard Deviation is: 0.0\n"
          ],
          "name": "stdout"
        }
      ]
    },
    {
      "cell_type": "code",
      "metadata": {
        "id": "g-1AXBUuLrCB",
        "colab": {
          "base_uri": "https://localhost:8080/"
        },
        "outputId": "29af99b1-d30e-4abe-c5d4-e08b96c77e41"
      },
      "source": [
        "unique, counts = np.unique(y_train, return_counts=True)\n",
        "unique1, counts1 = np.unique(y_test, return_counts=True)\n",
        "print(dict(zip(unique, counts)))\n",
        "print(dict(zip(unique1, counts1)))"
      ],
      "execution_count": null,
      "outputs": [
        {
          "output_type": "stream",
          "text": [
            "{'On_Track': 429, 'Overspending': 6018, 'Underspending': 1301}\n",
            "{'On_Track': 212, 'Overspending': 2964, 'Underspending': 641}\n"
          ],
          "name": "stdout"
        }
      ]
    },
    {
      "cell_type": "code",
      "metadata": {
        "id": "Isxim1xmLrCC"
      },
      "source": [
        "model = model.fit(X_train, y_train)"
      ],
      "execution_count": null,
      "outputs": []
    },
    {
      "cell_type": "code",
      "metadata": {
        "id": "tWo4YGBVLrCD",
        "colab": {
          "base_uri": "https://localhost:8080/"
        },
        "outputId": "5e638133-cfda-4914-d1bf-88450cd1e934"
      },
      "source": [
        "unique, counts = np.unique(y_train, return_counts=True)\n",
        "unique1, counts1 = np.unique(y_test, return_counts=True)\n",
        "print(dict(zip(unique, counts)))\n",
        "print(dict(zip(unique1, counts1)))"
      ],
      "execution_count": null,
      "outputs": [
        {
          "output_type": "stream",
          "text": [
            "{'On_Track': 429, 'Overspending': 6018, 'Underspending': 1301}\n",
            "{'On_Track': 212, 'Overspending': 2964, 'Underspending': 641}\n"
          ],
          "name": "stdout"
        }
      ]
    },
    {
      "cell_type": "code",
      "metadata": {
        "id": "hgulJqlPLrCD",
        "colab": {
          "base_uri": "https://localhost:8080/",
          "height": 142
        },
        "outputId": "2e4288e4-eefb-4b23-a300-f93564050f70"
      },
      "source": [
        "y_pred = model.predict(X_test)\n",
        "confmtrx = np.array(confusion_matrix(y_test, y_pred))\n",
        "\n",
        "pd.DataFrame(confmtrx, index=['Underspending','Overspending','On_Track'],\n",
        "columns=['predicted_Underspending', 'predicted_Overspending', 'predicted_On_Track'])"
      ],
      "execution_count": null,
      "outputs": [
        {
          "output_type": "execute_result",
          "data": {
            "text/html": [
              "<div>\n",
              "<style scoped>\n",
              "    .dataframe tbody tr th:only-of-type {\n",
              "        vertical-align: middle;\n",
              "    }\n",
              "\n",
              "    .dataframe tbody tr th {\n",
              "        vertical-align: top;\n",
              "    }\n",
              "\n",
              "    .dataframe thead th {\n",
              "        text-align: right;\n",
              "    }\n",
              "</style>\n",
              "<table border=\"1\" class=\"dataframe\">\n",
              "  <thead>\n",
              "    <tr style=\"text-align: right;\">\n",
              "      <th></th>\n",
              "      <th>predicted_Underspending</th>\n",
              "      <th>predicted_Overspending</th>\n",
              "      <th>predicted_On_Track</th>\n",
              "    </tr>\n",
              "  </thead>\n",
              "  <tbody>\n",
              "    <tr>\n",
              "      <th>Underspending</th>\n",
              "      <td>0</td>\n",
              "      <td>212</td>\n",
              "      <td>0</td>\n",
              "    </tr>\n",
              "    <tr>\n",
              "      <th>Overspending</th>\n",
              "      <td>0</td>\n",
              "      <td>2964</td>\n",
              "      <td>0</td>\n",
              "    </tr>\n",
              "    <tr>\n",
              "      <th>On_Track</th>\n",
              "      <td>0</td>\n",
              "      <td>641</td>\n",
              "      <td>0</td>\n",
              "    </tr>\n",
              "  </tbody>\n",
              "</table>\n",
              "</div>"
            ],
            "text/plain": [
              "               predicted_Underspending  ...  predicted_On_Track\n",
              "Underspending                        0  ...                   0\n",
              "Overspending                         0  ...                   0\n",
              "On_Track                             0  ...                   0\n",
              "\n",
              "[3 rows x 3 columns]"
            ]
          },
          "metadata": {
            "tags": []
          },
          "execution_count": 50
        }
      ]
    },
    {
      "cell_type": "code",
      "metadata": {
        "colab": {
          "base_uri": "https://localhost:8080/"
        },
        "id": "Kxdp8PaG7Mja",
        "outputId": "01ac1e75-b2c6-4774-af69-7a9bccfc40ee"
      },
      "source": [
        "predictions = mlp.predict(X_test)\n",
        "print(confusion_matrix(y_test,predictions))\n",
        "print(classification_report(y_test,predictions))"
      ],
      "execution_count": null,
      "outputs": [
        {
          "output_type": "stream",
          "text": [
            "[[   0  212    0]\n",
            " [   0 2964    0]\n",
            " [   0  641    0]]\n",
            "               precision    recall  f1-score   support\n",
            "\n",
            "     On_Track       0.00      0.00      0.00       212\n",
            " Overspending       0.78      1.00      0.87      2964\n",
            "Underspending       0.00      0.00      0.00       641\n",
            "\n",
            "     accuracy                           0.78      3817\n",
            "    macro avg       0.26      0.33      0.29      3817\n",
            " weighted avg       0.60      0.78      0.68      3817\n",
            "\n"
          ],
          "name": "stdout"
        },
        {
          "output_type": "stream",
          "text": [
            "/usr/local/lib/python3.7/dist-packages/sklearn/metrics/_classification.py:1272: UndefinedMetricWarning: Precision and F-score are ill-defined and being set to 0.0 in labels with no predicted samples. Use `zero_division` parameter to control this behavior.\n",
            "  _warn_prf(average, modifier, msg_start, len(result))\n"
          ],
          "name": "stderr"
        }
      ]
    },
    {
      "cell_type": "code",
      "metadata": {
        "id": "ovra1dLg4eCU"
      },
      "source": [
        ""
      ],
      "execution_count": null,
      "outputs": []
    }
  ]
}